{
 "cells": [
  {
   "cell_type": "markdown",
   "id": "fbb495bf-ace7-4a2e-baf4-770d165f785c",
   "metadata": {},
   "source": [
    "# Portfolio Optimization Project\n",
    "Kripa Bansal\\\n",
    "Sophia Ford\\\n",
    "Natalia Ramirez"
   ]
  },
  {
   "cell_type": "markdown",
   "id": "2a4b2b0f-a156-45f0-8e81-540ad9967b59",
   "metadata": {},
   "source": [
    "Constructing a portfolio with the best possible balance of risk (variance) and expected return (mean returns). "
   ]
  },
  {
   "cell_type": "markdown",
   "id": "afe60ff7-2dd2-4399-8337-b55f3bb79584",
   "metadata": {},
   "source": [
    "## Data Cleaning"
   ]
  },
  {
   "cell_type": "code",
   "execution_count": 842,
   "id": "90e7a450-449e-44cd-97ea-6b90309eca6b",
   "metadata": {},
   "outputs": [
    {
     "name": "stdout",
     "output_type": "stream",
     "text": [
      "/opt/anaconda3/bin/python\n"
     ]
    }
   ],
   "source": [
    "import sys\n",
    "print(sys.executable)"
   ]
  },
  {
   "cell_type": "code",
   "execution_count": 843,
   "id": "14f2a784-b1be-400c-9592-33f84b20a470",
   "metadata": {},
   "outputs": [],
   "source": [
    "import yfinance as yf\n",
    "import pandas as pd\n",
    "from datetime import datetime, timedelta\n",
    "import numpy as np\n",
    "from scipy.optimize import minimize"
   ]
  },
  {
   "cell_type": "code",
   "execution_count": 844,
   "id": "4c606073-6696-4fb5-82f1-7012b7b40cf9",
   "metadata": {},
   "outputs": [
    {
     "name": "stdout",
     "output_type": "stream",
     "text": [
      "2024-05-05 16:43:30.776044\n",
      "2023-05-06 16:43:30.776044\n"
     ]
    }
   ],
   "source": [
    "# Stocks we will use\n",
    "tickers = [\"AAPL\", \"MSFT\",'GOOGL', 'AMZN']\n",
    "#Final and start dates\n",
    "end_date = datetime.today()\n",
    "start_date = end_date - timedelta(days=365)\n",
    "print(end_date)\n",
    "print(start_date)"
   ]
  },
  {
   "cell_type": "markdown",
   "id": "b87fa9aa-a0c7-44c0-b3e5-f9181bda9ea5",
   "metadata": {},
   "source": [
    "### Reading Data"
   ]
  },
  {
   "cell_type": "code",
   "execution_count": 845,
   "id": "9cad1c15-befd-4177-8aff-3dc02c6b6f84",
   "metadata": {},
   "outputs": [
    {
     "name": "stderr",
     "output_type": "stream",
     "text": [
      "[*********************100%%**********************]  1 of 1 completed\n",
      "[*********************100%%**********************]  1 of 1 completed\n",
      "[*********************100%%**********************]  1 of 1 completed\n",
      "[*********************100%%**********************]  1 of 1 completed"
     ]
    },
    {
     "name": "stdout",
     "output_type": "stream",
     "text": [
      "          Date        Open        High         Low       Close   Adj Close  \\\n",
      "0   2023-05-08  172.479996  173.850006  172.110001  173.500000  172.578827   \n",
      "1   2023-05-09  173.050003  173.539993  171.600006  171.770004  170.858017   \n",
      "2   2023-05-10  173.020004  174.029999  171.899994  173.559998  172.638519   \n",
      "3   2023-05-11  173.850006  174.589996  172.169998  173.750000  172.827484   \n",
      "4   2023-05-12  173.619995  174.059998  171.000000  172.570007  171.891205   \n",
      "..         ...         ...         ...         ...         ...         ...   \n",
      "995 2024-04-29  182.750000  183.529999  179.389999  180.960007  180.960007   \n",
      "996 2024-04-30  181.089996  182.990005  174.800003  175.000000  175.000000   \n",
      "997 2024-05-01  181.639999  185.149994  176.559998  179.000000  179.000000   \n",
      "998 2024-05-02  180.850006  185.100006  179.910004  184.720001  184.720001   \n",
      "999 2024-05-03  186.815002  187.869995  185.429993  186.235001  186.235001   \n",
      "\n",
      "       Volume Ticker  \n",
      "0    55962800   AAPL  \n",
      "1    45326900   AAPL  \n",
      "2    53724500   AAPL  \n",
      "3    49514700   AAPL  \n",
      "4    45497800   AAPL  \n",
      "..        ...    ...  \n",
      "995  54063900   AMZN  \n",
      "996  94639800   AMZN  \n",
      "997  94645100   AMZN  \n",
      "998  54303500   AMZN  \n",
      "999  39172004   AMZN  \n",
      "\n",
      "[1000 rows x 8 columns]\n"
     ]
    },
    {
     "name": "stderr",
     "output_type": "stream",
     "text": [
      "\n"
     ]
    }
   ],
   "source": [
    "# Initialize a list to hold the DataFrames\n",
    "dataframes = []\n",
    "\n",
    "for name in tickers:\n",
    "    # Download stock data for given ticker between the start and end dates\n",
    "    data = yf.download(name, start=start_date, end=end_date)\n",
    "    \n",
    "    # Add a new column for the ticker name\n",
    "    data['Ticker'] = name\n",
    "    \n",
    "    # Append the DataFrame to the list\n",
    "    dataframes.append(data)\n",
    "\n",
    "stock_info = pd.concat(dataframes)\n",
    "\n",
    "stock_info.reset_index(inplace=True)\n",
    "\n",
    "print(stock_info)"
   ]
  },
  {
   "cell_type": "code",
   "execution_count": 846,
   "id": "aaeac743-2d33-4fd5-be03-7fc3a54bbddd",
   "metadata": {},
   "outputs": [
    {
     "name": "stdout",
     "output_type": "stream",
     "text": [
      "0     2023-05-08\n",
      "1     2023-05-09\n",
      "2     2023-05-10\n",
      "3     2023-05-11\n",
      "4     2023-05-12\n",
      "         ...    \n",
      "995   2024-04-29\n",
      "996   2024-04-30\n",
      "997   2024-05-01\n",
      "998   2024-05-02\n",
      "999   2024-05-03\n",
      "Name: Date, Length: 1000, dtype: datetime64[ns]\n"
     ]
    }
   ],
   "source": [
    "print(stock_info['Date'])"
   ]
  },
  {
   "cell_type": "markdown",
   "id": "9f3a75bd-b6ce-44a7-9a51-9bdd45c6cd39",
   "metadata": {},
   "source": [
    "## Plotting Adj. Close Price"
   ]
  },
  {
   "cell_type": "code",
   "execution_count": 847,
   "id": "a19531a4-1f96-46f4-b7fb-0683755333c6",
   "metadata": {},
   "outputs": [
    {
     "data": {
      "image/png": "[encoded data removed]",
      "text/plain": [
       "<Figure size 640x480 with 1 Axes>"
      ]
     },
     "metadata": {},
     "output_type": "display_data"
    }
   ],
   "source": [
    "import matplotlib.pyplot as plt\n",
    "\n",
    "# Create a plot to show closing price of each ticker\n",
    "for ticker in stock_info['Ticker'].unique():\n",
    "    subset = stock_info[stock_info['Ticker'] == ticker]\n",
    "    plt.plot(subset['Date'], subset['Adj Close'], label=ticker)\n",
    "\n",
    "plt.xlabel('Date')\n",
    "plt.ylabel('Adjusted Close Price')\n",
    "plt.title('Adjusted Close Price of Stocks Over Time')\n",
    "plt.legend()\n",
    "\n",
    "# Show the plot\n",
    "plt.show()"
   ]
  },
  {
   "cell_type": "markdown",
   "id": "fe978971-007f-4362-a5a4-29f4a0f8dda8",
   "metadata": {},
   "source": [
    "## Daily Simple Return"
   ]
  },
  {
   "cell_type": "code",
   "execution_count": 848,
   "id": "c802bb49-3a69-4ad7-8089-a29f4d628565",
   "metadata": {},
   "outputs": [
    {
     "name": "stdout",
     "output_type": "stream",
     "text": [
      "                AAPL      MSFT     GOOGL      AMZN\n",
      "Date                                              \n",
      "2023-05-09 -0.009971 -0.005346 -0.003897  0.007465\n",
      "2023-05-10  0.010421  0.017296  0.040987  0.033483\n",
      "2023-05-11  0.001095 -0.007044  0.043132  0.018060\n",
      "2023-05-12 -0.005417 -0.003676  0.008064 -0.017115\n",
      "2023-05-15 -0.002897  0.001586 -0.008510  0.008525\n"
     ]
    }
   ],
   "source": [
    "returns = pd.DataFrame()\n",
    "\n",
    "for ticker in stock_info['Ticker'].unique():\n",
    "    subset = stock_info[stock_info['Ticker'] == ticker]\n",
    "    ticker_change = subset.set_index('Date')['Adj Close'].pct_change()  # Keep the date index\n",
    "\n",
    "    returns[ticker] = ticker_change  # This ensures the Date remains as the index\n",
    "\n",
    "returns.dropna(how='all', inplace=True)\n",
    "\n",
    "# Check the resulting DataFrame\n",
    "print(returns.head())"
   ]
  },
  {
   "cell_type": "code",
   "execution_count": 849,
   "id": "23642ba5-1c03-4357-bf6b-8109b6af182a",
   "metadata": {},
   "outputs": [
    {
     "data": {
      "image/png": "[encoded data removed]",
      "text/plain": [
       "<Figure size 640x480 with 1 Axes>"
      ]
     },
     "metadata": {},
     "output_type": "display_data"
    }
   ],
   "source": [
    "for ticker in returns.columns:\n",
    "    plt.plot(returns.index, returns[ticker], label=ticker)\n",
    "\n",
    "plt.xlabel('Date')\n",
    "plt.ylabel('Adjusted Close Price')\n",
    "plt.title('Adjusted Close Price of Stocks Over Time')\n",
    "plt.legend()\n",
    "\n",
    "plt.show()"
   ]
  },
  {
   "cell_type": "markdown",
   "id": "fe24fd47-bf5b-4c04-9eb2-69e01d03a114",
   "metadata": {},
   "source": [
    "## Creating Covariance Matrix"
   ]
  },
  {
   "cell_type": "code",
   "execution_count": 850,
   "id": "a62796ac-3f3e-40e0-bae3-206df5d15ef9",
   "metadata": {},
   "outputs": [
    {
     "name": "stdout",
     "output_type": "stream",
     "text": [
      "           AAPL      MSFT     GOOGL      AMZN\n",
      "AAPL   0.000162  0.000082  0.000089  0.000082\n",
      "MSFT   0.000082  0.000178  0.000113  0.000140\n",
      "GOOGL  0.000089  0.000113  0.000333  0.000180\n",
      "AMZN   0.000082  0.000140  0.000180  0.000334\n"
     ]
    }
   ],
   "source": [
    "cov_matrix = returns.cov()\n",
    "print(cov_matrix)"
   ]
  },
  {
   "cell_type": "markdown",
   "id": "5dcc56ea-f59c-452f-aa50-450cf8086404",
   "metadata": {},
   "source": [
    "### Mean Weights"
   ]
  },
  {
   "cell_type": "code",
   "execution_count": 851,
   "id": "aa6ac590-7a96-4447-b1b7-e781174a3f78",
   "metadata": {},
   "outputs": [],
   "source": [
    "mean_returns = returns.mean()\n",
    "num_assets = len(returns.columns)"
   ]
  },
  {
   "cell_type": "markdown",
   "id": "daa62b92-9696-44e7-bd88-f28d8ffdf4ab",
   "metadata": {},
   "source": [
    "## Defining Metrics"
   ]
  },
  {
   "cell_type": "markdown",
   "id": "dd83c087-5b07-492f-964f-4b317a025e15",
   "metadata": {},
   "source": [
    "Through mean, variance, and covariance we can formulate an optimization problem where you aim to minimize the portfolio's variance given expected returns or maximize the expected return for a given level of risk.\\\n",
    "**Formula:**\n",
    "$\\sigma^2_p = w^T \\Sigma w$\n",
    "### Efficient Frontier \n",
    "The set of optimal portfolios that offer the highest returns with a low level of risk or the lowest risk with the highest returns is known as the Efficient Frontier. "
   ]
  },
  {
   "cell_type": "code",
   "execution_count": 852,
   "id": "eedccff6-38bb-4033-a827-339764d3d3ea",
   "metadata": {},
   "outputs": [],
   "source": [
    " def portfolio_performance(weights, mean_returns, cov_matrix):\n",
    "    returns = np.sum(mean_returns * weights) * 252\n",
    "    # Weights must range from 0-1\n",
    "    std_dev = np.sqrt(np.dot(weights.T, np.dot(cov_matrix, weights))) * np.sqrt(252)\n",
    "    return std_dev, returns"
   ]
  },
  {
   "cell_type": "markdown",
   "id": "9b75dbc5-831d-4d26-b9b4-c36fe838b9a7",
   "metadata": {},
   "source": [
    "Mean returns helps in estimating the expected return of each asset and thus the return of the whole portfolio"
   ]
  },
  {
   "cell_type": "markdown",
   "id": "4885f843-81b2-4a51-b1c2-38316ff31059",
   "metadata": {},
   "source": [
    "## Optimizing Weights"
   ]
  },
  {
   "cell_type": "markdown",
   "id": "cf924fb0-72d8-490e-ac13-7f3378b714f4",
   "metadata": {},
   "source": [
    "Identifying the portfolio with less mean variance "
   ]
  },
  {
   "cell_type": "code",
   "execution_count": 853,
   "id": "3d1299be-4894-4f9a-a53c-f7d4b93b2dbd",
   "metadata": {},
   "outputs": [],
   "source": [
    "from scipy.optimize import minimize\n",
    "def portfolio_variance(weights):\n",
    "    return portfolio_performance(weights, mean_returns, cov_matrix)[0]\n",
    "\n",
    "def portfolio_sharpe(weights):\n",
    "    return -((portfolio_performance(weights, mean_returns, cov_matrix)[1] - risk_free_rate) / portfolio_performance(weights, mean_returns, cov_matrix)[0])"
   ]
  },
  {
   "cell_type": "code",
   "execution_count": 854,
   "id": "dd02a219-8a3e-4b6d-80db-366409e9be63",
   "metadata": {},
   "outputs": [],
   "source": [
    "constraints = ({'type': 'eq', 'fun': lambda x: np.sum(x) - 1})  # Sum of weights must be 1\n",
    "bounds = tuple((0,1) for asset in range(num_assets)) \n",
    "risk_free_rate = 0.01  #We would like a risk of 1%"
   ]
  },
  {
   "cell_type": "code",
   "execution_count": 855,
   "id": "292307d8-b78f-48e8-9228-5a72bb445045",
   "metadata": {},
   "outputs": [],
   "source": [
    "# All stocks have the same weights at the start\n",
    "initial_weights = np.array(num_assets * [1. / num_assets])"
   ]
  },
  {
   "cell_type": "code",
   "execution_count": 856,
   "id": "a921ce54-257e-4cdb-bba9-959240d3db09",
   "metadata": {},
   "outputs": [],
   "source": [
    "# Minimum variance\n",
    "optimal_var_min = minimize(portfolio_variance, initial_weights, method='SLSQP', bounds=bounds, constraints=constraints)\n",
    "\n",
    "# Maximize Sharpe Ratio\n",
    "optimal_sharpe = minimize(portfolio_sharpe, initial_weights, method='SLSQP', bounds=bounds, constraints=constraints)"
   ]
  },
  {
   "cell_type": "code",
   "execution_count": 857,
   "id": "2e41ba70-91df-4d04-97ac-67dce223dcc0",
   "metadata": {},
   "outputs": [
    {
     "name": "stdout",
     "output_type": "stream",
     "text": [
      "Optimal weights for minimum variance\n",
      "[0.50183208 0.36878335 0.08388962 0.04549495]\n"
     ]
    },
    {
     "data": {
      "text/html": [
       "<div>\n",
       "<style scoped>\n",
       "    .dataframe tbody tr th:only-of-type {\n",
       "        vertical-align: middle;\n",
       "    }\n",
       "\n",
       "    .dataframe tbody tr th {\n",
       "        vertical-align: top;\n",
       "    }\n",
       "\n",
       "    .dataframe thead th {\n",
       "        text-align: right;\n",
       "    }\n",
       "</style>\n",
       "<table border=\"1\" class=\"dataframe\">\n",
       "  <thead>\n",
       "    <tr style=\"text-align: right;\">\n",
       "      <th></th>\n",
       "      <th>AAPL</th>\n",
       "      <th>MSFT</th>\n",
       "      <th>GOOGL</th>\n",
       "      <th>AMZN</th>\n",
       "      <th>Weighted_Returns</th>\n",
       "    </tr>\n",
       "    <tr>\n",
       "      <th>Date</th>\n",
       "      <th></th>\n",
       "      <th></th>\n",
       "      <th></th>\n",
       "      <th></th>\n",
       "      <th></th>\n",
       "    </tr>\n",
       "  </thead>\n",
       "  <tbody>\n",
       "    <tr>\n",
       "      <th>2023-05-09</th>\n",
       "      <td>-0.009971</td>\n",
       "      <td>-0.005346</td>\n",
       "      <td>-0.003897</td>\n",
       "      <td>0.007465</td>\n",
       "      <td>-0.006963</td>\n",
       "    </tr>\n",
       "    <tr>\n",
       "      <th>2023-05-10</th>\n",
       "      <td>0.010421</td>\n",
       "      <td>0.017296</td>\n",
       "      <td>0.040987</td>\n",
       "      <td>0.033483</td>\n",
       "      <td>0.016570</td>\n",
       "    </tr>\n",
       "    <tr>\n",
       "      <th>2023-05-11</th>\n",
       "      <td>0.001095</td>\n",
       "      <td>-0.007044</td>\n",
       "      <td>0.043132</td>\n",
       "      <td>0.018060</td>\n",
       "      <td>0.002391</td>\n",
       "    </tr>\n",
       "    <tr>\n",
       "      <th>2023-05-12</th>\n",
       "      <td>-0.005417</td>\n",
       "      <td>-0.003676</td>\n",
       "      <td>0.008064</td>\n",
       "      <td>-0.017115</td>\n",
       "      <td>-0.004176</td>\n",
       "    </tr>\n",
       "    <tr>\n",
       "      <th>2023-05-15</th>\n",
       "      <td>-0.002897</td>\n",
       "      <td>0.001586</td>\n",
       "      <td>-0.008510</td>\n",
       "      <td>0.008525</td>\n",
       "      <td>-0.001195</td>\n",
       "    </tr>\n",
       "  </tbody>\n",
       "</table>\n",
       "</div>"
      ],
      "text/plain": [
       "                AAPL      MSFT     GOOGL      AMZN  Weighted_Returns\n",
       "Date                                                                \n",
       "2023-05-09 -0.009971 -0.005346 -0.003897  0.007465         -0.006963\n",
       "2023-05-10  0.010421  0.017296  0.040987  0.033483          0.016570\n",
       "2023-05-11  0.001095 -0.007044  0.043132  0.018060          0.002391\n",
       "2023-05-12 -0.005417 -0.003676  0.008064 -0.017115         -0.004176\n",
       "2023-05-15 -0.002897  0.001586 -0.008510  0.008525         -0.001195"
      ]
     },
     "execution_count": 857,
     "metadata": {},
     "output_type": "execute_result"
    }
   ],
   "source": [
    "print('Optimal weights for minimum variance')\n",
    "weights_min_var = optimal_var_min['x']\n",
    "print(weights_min_var)\n",
    "weighted_returns = np.dot(returns, weights_min_var.T)\n",
    "returns['Weighted_Returns'] = weighted_returns \n",
    "returns.head()"
   ]
  },
  {
   "cell_type": "markdown",
   "id": "ea521599-2655-47b8-a575-809c4acc8fe8",
   "metadata": {},
   "source": [
    "## Create features"
   ]
  },
  {
   "cell_type": "markdown",
   "id": "2fbe7a7f-b35e-4d13-8f36-23880f397613",
   "metadata": {},
   "source": [
    "Using rolling weighted returns, the standard deviation of the weighted returns, and the previous returns. Along with the rolling closing prices in a window of 10 and 50 days. "
   ]
  },
  {
   "cell_type": "code",
   "execution_count": 858,
   "id": "fb1fcb9c-f1ae-47dd-a91d-65dddf12761b",
   "metadata": {},
   "outputs": [
    {
     "data": {
      "text/html": [
       "<div>\n",
       "<style scoped>\n",
       "    .dataframe tbody tr th:only-of-type {\n",
       "        vertical-align: middle;\n",
       "    }\n",
       "\n",
       "    .dataframe tbody tr th {\n",
       "        vertical-align: top;\n",
       "    }\n",
       "\n",
       "    .dataframe thead th {\n",
       "        text-align: right;\n",
       "    }\n",
       "</style>\n",
       "<table border=\"1\" class=\"dataframe\">\n",
       "  <thead>\n",
       "    <tr style=\"text-align: right;\">\n",
       "      <th></th>\n",
       "      <th>AAPL</th>\n",
       "      <th>MSFT</th>\n",
       "      <th>GOOGL</th>\n",
       "      <th>AMZN</th>\n",
       "      <th>Weighted_Returns</th>\n",
       "      <th>MA_10</th>\n",
       "      <th>STD_10</th>\n",
       "      <th>Previous_Returns</th>\n",
       "    </tr>\n",
       "    <tr>\n",
       "      <th>Date</th>\n",
       "      <th></th>\n",
       "      <th></th>\n",
       "      <th></th>\n",
       "      <th></th>\n",
       "      <th></th>\n",
       "      <th></th>\n",
       "      <th></th>\n",
       "      <th></th>\n",
       "    </tr>\n",
       "  </thead>\n",
       "  <tbody>\n",
       "    <tr>\n",
       "      <th>2023-05-09</th>\n",
       "      <td>-0.009971</td>\n",
       "      <td>-0.005346</td>\n",
       "      <td>-0.003897</td>\n",
       "      <td>0.007465</td>\n",
       "      <td>-0.006963</td>\n",
       "      <td>NaN</td>\n",
       "      <td>NaN</td>\n",
       "      <td>NaN</td>\n",
       "    </tr>\n",
       "    <tr>\n",
       "      <th>2023-05-10</th>\n",
       "      <td>0.010421</td>\n",
       "      <td>0.017296</td>\n",
       "      <td>0.040987</td>\n",
       "      <td>0.033483</td>\n",
       "      <td>0.016570</td>\n",
       "      <td>NaN</td>\n",
       "      <td>NaN</td>\n",
       "      <td>-0.006963</td>\n",
       "    </tr>\n",
       "    <tr>\n",
       "      <th>2023-05-11</th>\n",
       "      <td>0.001095</td>\n",
       "      <td>-0.007044</td>\n",
       "      <td>0.043132</td>\n",
       "      <td>0.018060</td>\n",
       "      <td>0.002391</td>\n",
       "      <td>NaN</td>\n",
       "      <td>NaN</td>\n",
       "      <td>0.016570</td>\n",
       "    </tr>\n",
       "    <tr>\n",
       "      <th>2023-05-12</th>\n",
       "      <td>-0.005417</td>\n",
       "      <td>-0.003676</td>\n",
       "      <td>0.008064</td>\n",
       "      <td>-0.017115</td>\n",
       "      <td>-0.004176</td>\n",
       "      <td>NaN</td>\n",
       "      <td>NaN</td>\n",
       "      <td>0.002391</td>\n",
       "    </tr>\n",
       "    <tr>\n",
       "      <th>2023-05-15</th>\n",
       "      <td>-0.002897</td>\n",
       "      <td>0.001586</td>\n",
       "      <td>-0.008510</td>\n",
       "      <td>0.008525</td>\n",
       "      <td>-0.001195</td>\n",
       "      <td>NaN</td>\n",
       "      <td>NaN</td>\n",
       "      <td>-0.004176</td>\n",
       "    </tr>\n",
       "  </tbody>\n",
       "</table>\n",
       "</div>"
      ],
      "text/plain": [
       "                AAPL      MSFT     GOOGL      AMZN  Weighted_Returns  MA_10  \\\n",
       "Date                                                                          \n",
       "2023-05-09 -0.009971 -0.005346 -0.003897  0.007465         -0.006963    NaN   \n",
       "2023-05-10  0.010421  0.017296  0.040987  0.033483          0.016570    NaN   \n",
       "2023-05-11  0.001095 -0.007044  0.043132  0.018060          0.002391    NaN   \n",
       "2023-05-12 -0.005417 -0.003676  0.008064 -0.017115         -0.004176    NaN   \n",
       "2023-05-15 -0.002897  0.001586 -0.008510  0.008525         -0.001195    NaN   \n",
       "\n",
       "            STD_10  Previous_Returns  \n",
       "Date                                  \n",
       "2023-05-09     NaN               NaN  \n",
       "2023-05-10     NaN         -0.006963  \n",
       "2023-05-11     NaN          0.016570  \n",
       "2023-05-12     NaN          0.002391  \n",
       "2023-05-15     NaN         -0.004176  "
      ]
     },
     "execution_count": 858,
     "metadata": {},
     "output_type": "execute_result"
    }
   ],
   "source": [
    "returns['MA_10'] = returns['Weighted_Returns'].rolling(window=10).mean()\n",
    "returns['STD_10'] = returns['Weighted_Returns'].rolling(window=10).std()\n",
    "returns['Previous_Returns'] = returns['Weighted_Returns'].shift(1)\n",
    "returns.head()"
   ]
  },
  {
   "cell_type": "code",
   "execution_count": 859,
   "id": "e6cd9dda-fcd1-4540-ac6f-22e729633683",
   "metadata": {
    "scrolled": true
   },
   "outputs": [
    {
     "data": {
      "text/html": [
       "<div>\n",
       "<style scoped>\n",
       "    .dataframe tbody tr th:only-of-type {\n",
       "        vertical-align: middle;\n",
       "    }\n",
       "\n",
       "    .dataframe tbody tr th {\n",
       "        vertical-align: top;\n",
       "    }\n",
       "\n",
       "    .dataframe thead th {\n",
       "        text-align: right;\n",
       "    }\n",
       "</style>\n",
       "<table border=\"1\" class=\"dataframe\">\n",
       "  <thead>\n",
       "    <tr style=\"text-align: right;\">\n",
       "      <th></th>\n",
       "      <th>AAPL</th>\n",
       "      <th>MSFT</th>\n",
       "      <th>GOOGL</th>\n",
       "      <th>AMZN</th>\n",
       "      <th>Weighted_Returns</th>\n",
       "      <th>MA_10</th>\n",
       "      <th>STD_10</th>\n",
       "      <th>Previous_Returns</th>\n",
       "    </tr>\n",
       "    <tr>\n",
       "      <th>Date</th>\n",
       "      <th></th>\n",
       "      <th></th>\n",
       "      <th></th>\n",
       "      <th></th>\n",
       "      <th></th>\n",
       "      <th></th>\n",
       "      <th></th>\n",
       "      <th></th>\n",
       "    </tr>\n",
       "  </thead>\n",
       "  <tbody>\n",
       "    <tr>\n",
       "      <th>2023-05-22</th>\n",
       "      <td>-0.005481</td>\n",
       "      <td>0.008921</td>\n",
       "      <td>0.018654</td>\n",
       "      <td>-0.010667</td>\n",
       "      <td>0.001619</td>\n",
       "      <td>0.003501</td>\n",
       "      <td>0.007633</td>\n",
       "      <td>-0.000672</td>\n",
       "    </tr>\n",
       "    <tr>\n",
       "      <th>2023-05-23</th>\n",
       "      <td>-0.015155</td>\n",
       "      <td>-0.018432</td>\n",
       "      <td>-0.019912</td>\n",
       "      <td>-0.000174</td>\n",
       "      <td>-0.016081</td>\n",
       "      <td>0.002589</td>\n",
       "      <td>0.009369</td>\n",
       "      <td>0.001619</td>\n",
       "    </tr>\n",
       "    <tr>\n",
       "      <th>2023-05-24</th>\n",
       "      <td>0.001632</td>\n",
       "      <td>-0.004473</td>\n",
       "      <td>-0.013544</td>\n",
       "      <td>0.015306</td>\n",
       "      <td>-0.001270</td>\n",
       "      <td>0.000805</td>\n",
       "      <td>0.008012</td>\n",
       "      <td>-0.016081</td>\n",
       "    </tr>\n",
       "    <tr>\n",
       "      <th>2023-05-25</th>\n",
       "      <td>0.006692</td>\n",
       "      <td>0.038458</td>\n",
       "      <td>0.021340</td>\n",
       "      <td>-0.014989</td>\n",
       "      <td>0.018649</td>\n",
       "      <td>0.002431</td>\n",
       "      <td>0.009816</td>\n",
       "      <td>-0.001270</td>\n",
       "    </tr>\n",
       "    <tr>\n",
       "      <th>2023-05-26</th>\n",
       "      <td>0.014105</td>\n",
       "      <td>0.021386</td>\n",
       "      <td>0.009151</td>\n",
       "      <td>0.044435</td>\n",
       "      <td>0.017754</td>\n",
       "      <td>0.004624</td>\n",
       "      <td>0.010594</td>\n",
       "      <td>0.018649</td>\n",
       "    </tr>\n",
       "  </tbody>\n",
       "</table>\n",
       "</div>"
      ],
      "text/plain": [
       "                AAPL      MSFT     GOOGL      AMZN  Weighted_Returns  \\\n",
       "Date                                                                   \n",
       "2023-05-22 -0.005481  0.008921  0.018654 -0.010667          0.001619   \n",
       "2023-05-23 -0.015155 -0.018432 -0.019912 -0.000174         -0.016081   \n",
       "2023-05-24  0.001632 -0.004473 -0.013544  0.015306         -0.001270   \n",
       "2023-05-25  0.006692  0.038458  0.021340 -0.014989          0.018649   \n",
       "2023-05-26  0.014105  0.021386  0.009151  0.044435          0.017754   \n",
       "\n",
       "               MA_10    STD_10  Previous_Returns  \n",
       "Date                                              \n",
       "2023-05-22  0.003501  0.007633         -0.000672  \n",
       "2023-05-23  0.002589  0.009369          0.001619  \n",
       "2023-05-24  0.000805  0.008012         -0.016081  \n",
       "2023-05-25  0.002431  0.009816         -0.001270  \n",
       "2023-05-26  0.004624  0.010594          0.018649  "
      ]
     },
     "execution_count": 859,
     "metadata": {},
     "output_type": "execute_result"
    }
   ],
   "source": [
    "returns['MA_10'] = returns['Weighted_Returns'].rolling(window=10).mean()\n",
    "# Volatility\n",
    "returns['STD_10'] = returns['Weighted_Returns'].rolling(window=10).std()\n",
    "returns['Previous_Returns'] = returns['Weighted_Returns'].shift(1)\n",
    "returns = returns.dropna(subset=['MA_10', 'STD_10'])\n",
    "returns.head()"
   ]
  },
  {
   "cell_type": "code",
   "execution_count": 860,
   "id": "022b0707-8dbd-4695-b442-5db149313dc7",
   "metadata": {},
   "outputs": [
    {
     "data": {
      "text/html": [
       "<div>\n",
       "<style scoped>\n",
       "    .dataframe tbody tr th:only-of-type {\n",
       "        vertical-align: middle;\n",
       "    }\n",
       "\n",
       "    .dataframe tbody tr th {\n",
       "        vertical-align: top;\n",
       "    }\n",
       "\n",
       "    .dataframe thead th {\n",
       "        text-align: right;\n",
       "    }\n",
       "</style>\n",
       "<table border=\"1\" class=\"dataframe\">\n",
       "  <thead>\n",
       "    <tr style=\"text-align: right;\">\n",
       "      <th></th>\n",
       "      <th>Open</th>\n",
       "      <th>High</th>\n",
       "      <th>Low</th>\n",
       "      <th>Close</th>\n",
       "      <th>Adj Close</th>\n",
       "      <th>Volume</th>\n",
       "      <th>Ticker</th>\n",
       "    </tr>\n",
       "    <tr>\n",
       "      <th>Date</th>\n",
       "      <th></th>\n",
       "      <th></th>\n",
       "      <th></th>\n",
       "      <th></th>\n",
       "      <th></th>\n",
       "      <th></th>\n",
       "      <th></th>\n",
       "    </tr>\n",
       "  </thead>\n",
       "  <tbody>\n",
       "    <tr>\n",
       "      <th>2023-05-08</th>\n",
       "      <td>172.479996</td>\n",
       "      <td>173.850006</td>\n",
       "      <td>172.110001</td>\n",
       "      <td>173.500000</td>\n",
       "      <td>172.578827</td>\n",
       "      <td>55962800</td>\n",
       "      <td>AAPL</td>\n",
       "    </tr>\n",
       "    <tr>\n",
       "      <th>2023-05-09</th>\n",
       "      <td>173.050003</td>\n",
       "      <td>173.539993</td>\n",
       "      <td>171.600006</td>\n",
       "      <td>171.770004</td>\n",
       "      <td>170.858017</td>\n",
       "      <td>45326900</td>\n",
       "      <td>AAPL</td>\n",
       "    </tr>\n",
       "    <tr>\n",
       "      <th>2023-05-10</th>\n",
       "      <td>173.020004</td>\n",
       "      <td>174.029999</td>\n",
       "      <td>171.899994</td>\n",
       "      <td>173.559998</td>\n",
       "      <td>172.638519</td>\n",
       "      <td>53724500</td>\n",
       "      <td>AAPL</td>\n",
       "    </tr>\n",
       "    <tr>\n",
       "      <th>2023-05-11</th>\n",
       "      <td>173.850006</td>\n",
       "      <td>174.589996</td>\n",
       "      <td>172.169998</td>\n",
       "      <td>173.750000</td>\n",
       "      <td>172.827484</td>\n",
       "      <td>49514700</td>\n",
       "      <td>AAPL</td>\n",
       "    </tr>\n",
       "    <tr>\n",
       "      <th>2023-05-12</th>\n",
       "      <td>173.619995</td>\n",
       "      <td>174.059998</td>\n",
       "      <td>171.000000</td>\n",
       "      <td>172.570007</td>\n",
       "      <td>171.891205</td>\n",
       "      <td>45497800</td>\n",
       "      <td>AAPL</td>\n",
       "    </tr>\n",
       "  </tbody>\n",
       "</table>\n",
       "</div>"
      ],
      "text/plain": [
       "                  Open        High         Low       Close   Adj Close  \\\n",
       "Date                                                                     \n",
       "2023-05-08  172.479996  173.850006  172.110001  173.500000  172.578827   \n",
       "2023-05-09  173.050003  173.539993  171.600006  171.770004  170.858017   \n",
       "2023-05-10  173.020004  174.029999  171.899994  173.559998  172.638519   \n",
       "2023-05-11  173.850006  174.589996  172.169998  173.750000  172.827484   \n",
       "2023-05-12  173.619995  174.059998  171.000000  172.570007  171.891205   \n",
       "\n",
       "              Volume Ticker  \n",
       "Date                         \n",
       "2023-05-08  55962800   AAPL  \n",
       "2023-05-09  45326900   AAPL  \n",
       "2023-05-10  53724500   AAPL  \n",
       "2023-05-11  49514700   AAPL  \n",
       "2023-05-12  45497800   AAPL  "
      ]
     },
     "execution_count": 860,
     "metadata": {},
     "output_type": "execute_result"
    }
   ],
   "source": [
    "stock_info['Date'] = pd.to_datetime(stock_info['Date'])\n",
    "\n",
    "# Set 'Date' as the index for both DataFrames.\n",
    "stock_info.set_index('Date', inplace=True)\n",
    "stock_info.head()"
   ]
  },
  {
   "cell_type": "code",
   "execution_count": 861,
   "id": "ed1034ca-fa9c-4bb8-b76e-0ab7c7459e41",
   "metadata": {},
   "outputs": [
    {
     "data": {
      "text/html": [
       "<div>\n",
       "<style scoped>\n",
       "    .dataframe tbody tr th:only-of-type {\n",
       "        vertical-align: middle;\n",
       "    }\n",
       "\n",
       "    .dataframe tbody tr th {\n",
       "        vertical-align: top;\n",
       "    }\n",
       "\n",
       "    .dataframe thead th {\n",
       "        text-align: right;\n",
       "    }\n",
       "</style>\n",
       "<table border=\"1\" class=\"dataframe\">\n",
       "  <thead>\n",
       "    <tr style=\"text-align: right;\">\n",
       "      <th></th>\n",
       "      <th>Open</th>\n",
       "      <th>High</th>\n",
       "      <th>Low</th>\n",
       "      <th>Close</th>\n",
       "      <th>Adj Close</th>\n",
       "      <th>Volume</th>\n",
       "      <th>Ticker</th>\n",
       "      <th>MA_10_close</th>\n",
       "      <th>MA_50_close</th>\n",
       "    </tr>\n",
       "    <tr>\n",
       "      <th>Date</th>\n",
       "      <th></th>\n",
       "      <th></th>\n",
       "      <th></th>\n",
       "      <th></th>\n",
       "      <th></th>\n",
       "      <th></th>\n",
       "      <th></th>\n",
       "      <th></th>\n",
       "      <th></th>\n",
       "    </tr>\n",
       "  </thead>\n",
       "  <tbody>\n",
       "    <tr>\n",
       "      <th>2023-07-19</th>\n",
       "      <td>193.100006</td>\n",
       "      <td>198.229996</td>\n",
       "      <td>192.649994</td>\n",
       "      <td>195.100006</td>\n",
       "      <td>194.332581</td>\n",
       "      <td>80507300</td>\n",
       "      <td>AAPL</td>\n",
       "      <td>190.547519</td>\n",
       "      <td>181.653510</td>\n",
       "    </tr>\n",
       "    <tr>\n",
       "      <th>2023-07-20</th>\n",
       "      <td>195.089996</td>\n",
       "      <td>196.470001</td>\n",
       "      <td>192.500000</td>\n",
       "      <td>193.130005</td>\n",
       "      <td>192.370331</td>\n",
       "      <td>59581200</td>\n",
       "      <td>AAPL</td>\n",
       "      <td>190.679001</td>\n",
       "      <td>182.049340</td>\n",
       "    </tr>\n",
       "    <tr>\n",
       "      <th>2023-07-21</th>\n",
       "      <td>194.100006</td>\n",
       "      <td>194.970001</td>\n",
       "      <td>191.229996</td>\n",
       "      <td>191.940002</td>\n",
       "      <td>191.185013</td>\n",
       "      <td>71917800</td>\n",
       "      <td>AAPL</td>\n",
       "      <td>190.804507</td>\n",
       "      <td>182.455880</td>\n",
       "    </tr>\n",
       "    <tr>\n",
       "      <th>2023-07-24</th>\n",
       "      <td>193.410004</td>\n",
       "      <td>194.910004</td>\n",
       "      <td>192.250000</td>\n",
       "      <td>192.750000</td>\n",
       "      <td>191.991806</td>\n",
       "      <td>45377800</td>\n",
       "      <td>AAPL</td>\n",
       "      <td>191.216878</td>\n",
       "      <td>182.842946</td>\n",
       "    </tr>\n",
       "    <tr>\n",
       "      <th>2023-07-25</th>\n",
       "      <td>193.330002</td>\n",
       "      <td>194.440002</td>\n",
       "      <td>192.919998</td>\n",
       "      <td>193.619995</td>\n",
       "      <td>192.858398</td>\n",
       "      <td>37283200</td>\n",
       "      <td>AAPL</td>\n",
       "      <td>191.768698</td>\n",
       "      <td>183.243564</td>\n",
       "    </tr>\n",
       "  </tbody>\n",
       "</table>\n",
       "</div>"
      ],
      "text/plain": [
       "                  Open        High         Low       Close   Adj Close  \\\n",
       "Date                                                                     \n",
       "2023-07-19  193.100006  198.229996  192.649994  195.100006  194.332581   \n",
       "2023-07-20  195.089996  196.470001  192.500000  193.130005  192.370331   \n",
       "2023-07-21  194.100006  194.970001  191.229996  191.940002  191.185013   \n",
       "2023-07-24  193.410004  194.910004  192.250000  192.750000  191.991806   \n",
       "2023-07-25  193.330002  194.440002  192.919998  193.619995  192.858398   \n",
       "\n",
       "              Volume Ticker  MA_10_close  MA_50_close  \n",
       "Date                                                   \n",
       "2023-07-19  80507300   AAPL   190.547519   181.653510  \n",
       "2023-07-20  59581200   AAPL   190.679001   182.049340  \n",
       "2023-07-21  71917800   AAPL   190.804507   182.455880  \n",
       "2023-07-24  45377800   AAPL   191.216878   182.842946  \n",
       "2023-07-25  37283200   AAPL   191.768698   183.243564  "
      ]
     },
     "execution_count": 861,
     "metadata": {},
     "output_type": "execute_result"
    }
   ],
   "source": [
    "stock_info['MA_10_close'] = stock_info.groupby('Ticker')['Adj Close'].transform(lambda x: x.rolling(window=10).mean())\n",
    "stock_info['MA_50_close'] = stock_info.groupby('Ticker')['Adj Close'].transform(lambda x: x.rolling(window=50).mean())\n",
    "stock_info = stock_info.dropna(subset=['MA_10_close', 'MA_50_close'])\n",
    "stock_info.head()"
   ]
  },
  {
   "cell_type": "code",
   "execution_count": 862,
   "id": "e41236cc-7d79-4ebb-a09a-48409eaf0eef",
   "metadata": {
    "scrolled": true
   },
   "outputs": [
    {
     "data": {
      "text/html": [
       "<div>\n",
       "<style scoped>\n",
       "    .dataframe tbody tr th:only-of-type {\n",
       "        vertical-align: middle;\n",
       "    }\n",
       "\n",
       "    .dataframe tbody tr th {\n",
       "        vertical-align: top;\n",
       "    }\n",
       "\n",
       "    .dataframe thead th {\n",
       "        text-align: right;\n",
       "    }\n",
       "</style>\n",
       "<table border=\"1\" class=\"dataframe\">\n",
       "  <thead>\n",
       "    <tr style=\"text-align: right;\">\n",
       "      <th></th>\n",
       "      <th>AAPL</th>\n",
       "      <th>MSFT</th>\n",
       "      <th>GOOGL</th>\n",
       "      <th>AMZN</th>\n",
       "      <th>Weighted_Returns</th>\n",
       "      <th>MA_10</th>\n",
       "      <th>STD_10</th>\n",
       "      <th>Previous_Returns</th>\n",
       "      <th>MA_10_close</th>\n",
       "      <th>MA_50_close</th>\n",
       "    </tr>\n",
       "    <tr>\n",
       "      <th>Date</th>\n",
       "      <th></th>\n",
       "      <th></th>\n",
       "      <th></th>\n",
       "      <th></th>\n",
       "      <th></th>\n",
       "      <th></th>\n",
       "      <th></th>\n",
       "      <th></th>\n",
       "      <th></th>\n",
       "      <th></th>\n",
       "    </tr>\n",
       "  </thead>\n",
       "  <tbody>\n",
       "    <tr>\n",
       "      <th>2023-07-19</th>\n",
       "      <td>0.007072</td>\n",
       "      <td>-0.012267</td>\n",
       "      <td>-0.013979</td>\n",
       "      <td>0.019047</td>\n",
       "      <td>-0.001281</td>\n",
       "      <td>0.003056</td>\n",
       "      <td>0.009103</td>\n",
       "      <td>0.013157</td>\n",
       "      <td>190.547519</td>\n",
       "      <td>181.653510</td>\n",
       "    </tr>\n",
       "    <tr>\n",
       "      <th>2023-07-19</th>\n",
       "      <td>0.007072</td>\n",
       "      <td>-0.012267</td>\n",
       "      <td>-0.013979</td>\n",
       "      <td>0.019047</td>\n",
       "      <td>-0.001281</td>\n",
       "      <td>0.003056</td>\n",
       "      <td>0.009103</td>\n",
       "      <td>0.013157</td>\n",
       "      <td>340.771600</td>\n",
       "      <td>328.333149</td>\n",
       "    </tr>\n",
       "    <tr>\n",
       "      <th>2023-07-19</th>\n",
       "      <td>0.007072</td>\n",
       "      <td>-0.012267</td>\n",
       "      <td>-0.013979</td>\n",
       "      <td>0.019047</td>\n",
       "      <td>-0.001281</td>\n",
       "      <td>0.003056</td>\n",
       "      <td>0.009103</td>\n",
       "      <td>0.013157</td>\n",
       "      <td>121.251000</td>\n",
       "      <td>121.076600</td>\n",
       "    </tr>\n",
       "    <tr>\n",
       "      <th>2023-07-19</th>\n",
       "      <td>0.007072</td>\n",
       "      <td>-0.012267</td>\n",
       "      <td>-0.013979</td>\n",
       "      <td>0.019047</td>\n",
       "      <td>-0.001281</td>\n",
       "      <td>0.003056</td>\n",
       "      <td>0.009103</td>\n",
       "      <td>0.013157</td>\n",
       "      <td>131.557999</td>\n",
       "      <td>123.477000</td>\n",
       "    </tr>\n",
       "    <tr>\n",
       "      <th>2023-07-20</th>\n",
       "      <td>-0.010097</td>\n",
       "      <td>-0.023122</td>\n",
       "      <td>-0.023191</td>\n",
       "      <td>-0.039894</td>\n",
       "      <td>-0.017354</td>\n",
       "      <td>0.001038</td>\n",
       "      <td>0.011164</td>\n",
       "      <td>-0.001281</td>\n",
       "      <td>190.679001</td>\n",
       "      <td>182.049340</td>\n",
       "    </tr>\n",
       "  </tbody>\n",
       "</table>\n",
       "</div>"
      ],
      "text/plain": [
       "                AAPL      MSFT     GOOGL      AMZN  Weighted_Returns  \\\n",
       "Date                                                                   \n",
       "2023-07-19  0.007072 -0.012267 -0.013979  0.019047         -0.001281   \n",
       "2023-07-19  0.007072 -0.012267 -0.013979  0.019047         -0.001281   \n",
       "2023-07-19  0.007072 -0.012267 -0.013979  0.019047         -0.001281   \n",
       "2023-07-19  0.007072 -0.012267 -0.013979  0.019047         -0.001281   \n",
       "2023-07-20 -0.010097 -0.023122 -0.023191 -0.039894         -0.017354   \n",
       "\n",
       "               MA_10    STD_10  Previous_Returns  MA_10_close  MA_50_close  \n",
       "Date                                                                        \n",
       "2023-07-19  0.003056  0.009103          0.013157   190.547519   181.653510  \n",
       "2023-07-19  0.003056  0.009103          0.013157   340.771600   328.333149  \n",
       "2023-07-19  0.003056  0.009103          0.013157   121.251000   121.076600  \n",
       "2023-07-19  0.003056  0.009103          0.013157   131.557999   123.477000  \n",
       "2023-07-20  0.001038  0.011164         -0.001281   190.679001   182.049340  "
      ]
     },
     "execution_count": 862,
     "metadata": {},
     "output_type": "execute_result"
    }
   ],
   "source": [
    "merged_df = returns.merge(stock_info[['MA_10_close', 'MA_50_close']], left_index=True, right_index=True, how='left')\n",
    "merged_df.dropna(subset=['MA_10_close', 'MA_50_close'], inplace=True)\n",
    "merged_df.head()"
   ]
  },
  {
   "cell_type": "markdown",
   "id": "a18e18d1-ede6-4d3c-bc91-926500e0c2e5",
   "metadata": {},
   "source": [
    "## Splitting data"
   ]
  },
  {
   "cell_type": "markdown",
   "id": "4d907592-06fd-4a66-b311-e90b1108b37b",
   "metadata": {},
   "source": [
    "Past dates are used as the training set, while future dates (dates after training) are the test set."
   ]
  },
  {
   "cell_type": "code",
   "execution_count": 863,
   "id": "9d4d7fc8-aedd-48d1-91c7-cb284ee243b5",
   "metadata": {},
   "outputs": [],
   "source": [
    "merged_df = merged_df.sort_index()\n",
    "split_point = int(len(merged_df) * 0.7)\n",
    "X_train = merged_df.iloc[:split_point].drop(['Weighted_Returns'], axis=1)\n",
    "y_train = merged_df.iloc[:split_point]['Weighted_Returns']\n",
    "X_test = merged_df.iloc[split_point:].drop(['Weighted_Returns'], axis=1)\n",
    "y_test = merged_df.iloc[split_point:]['Weighted_Returns']"
   ]
  },
  {
   "cell_type": "code",
   "execution_count": 864,
   "id": "fa8e5f66-9aae-4474-9dc0-5f697a50c1d2",
   "metadata": {},
   "outputs": [
    {
     "name": "stdout",
     "output_type": "stream",
     "text": [
      "Training data date range:\n",
      "Start date: 2023-07-19 00:00:00\n",
      "End date: 2024-02-07 00:00:00\n",
      "Test data date range:\n",
      "Start date: 2024-02-07 00:00:00\n",
      "End date: 2024-05-03 00:00:00\n"
     ]
    }
   ],
   "source": [
    "print(\"Training data date range:\")\n",
    "print(\"Start date:\", X_train.index.min())\n",
    "print(\"End date:\", X_train.index.max())\n",
    "\n",
    "# Print the date range for the test data\n",
    "print(\"Test data date range:\")\n",
    "print(\"Start date:\", X_test.index.min())\n",
    "print(\"End date:\", X_test.index.max())"
   ]
  },
  {
   "cell_type": "markdown",
   "id": "d5b8af0c-e240-4516-a033-f32ac09ec2c4",
   "metadata": {},
   "source": [
    "## Model Definition"
   ]
  },
  {
   "cell_type": "code",
   "execution_count": 865,
   "id": "b14a536e-b4de-4568-a679-a09ff9446d9a",
   "metadata": {},
   "outputs": [],
   "source": [
    "from sklearn.ensemble import RandomForestRegressor\n",
    "from sklearn.datasets import make_regression\n",
    "from sklearn import svm, datasets\n",
    "from sklearn.model_selection import GridSearchCV\n",
    "from sklearn.ensemble import StackingRegressor\n",
    "from sklearn.tree import DecisionTreeRegressor\n",
    "from sklearn.model_selection import cross_val_score\n",
    "from sklearn.metrics import make_scorer, mean_squared_error\n",
    "\n",
    "param_grid = {\n",
    "    'max_depth': [2, 3],\n",
    "    'min_samples_split': [10,15,20,30],\n",
    "    'max_features': [3, 5, 7],\n",
    "    'n_estimators': [100, 200]\n",
    "}"
   ]
  },
  {
   "cell_type": "code",
   "execution_count": 866,
   "id": "b615f680-54af-4115-ab35-96992c558f09",
   "metadata": {},
   "outputs": [
    {
     "name": "stdout",
     "output_type": "stream",
     "text": [
      "Fitting 5 folds for each of 48 candidates, totalling 240 fits\n"
     ]
    },
    {
     "data": {
      "text/plain": [
       "({'max_depth': 3,\n",
       "  'max_features': 5,\n",
       "  'min_samples_split': 15,\n",
       "  'n_estimators': 100},\n",
       " -0.0031890707812833805)"
      ]
     },
     "execution_count": 866,
     "metadata": {},
     "output_type": "execute_result"
    }
   ],
   "source": [
    "model_rf = RandomForestRegressor(random_state=42)\n",
    "grid_search_rf = GridSearchCV(estimator=model_rf, param_grid=param_grid, cv=5, scoring='neg_root_mean_squared_error', verbose=1)\n",
    "grid_search_rf.fit(X_train, y_train)\n",
    "best_params = grid_search_rf.best_params_\n",
    "best_score = grid_search_rf.best_score_\n",
    "\n",
    "best_params, best_score"
   ]
  },
  {
   "cell_type": "code",
   "execution_count": 867,
   "id": "c5a9aa48-6c92-4494-89cc-40298c9ea7e8",
   "metadata": {
    "scrolled": true
   },
   "outputs": [
    {
     "name": "stdout",
     "output_type": "stream",
     "text": [
      "RMSE of the stacking regressor on the test set: 0.005336115573623833\n"
     ]
    }
   ],
   "source": [
    "cross_val_rmse_tree = cross_val_score(grid_search_rf.best_estimator_, X_test, y_test, cv=5, scoring=make_scorer(mean_squared_error, squared=False))\n",
    "\n",
    "print(f'RMSE of the stacking regressor on the test set: {cross_val_rmse_tree.mean()}')"
   ]
  },
  {
   "cell_type": "code",
   "execution_count": 868,
   "id": "83dd484c-2c65-4fea-83bb-7fbdb7b9c6e4",
   "metadata": {},
   "outputs": [
    {
     "name": "stdout",
     "output_type": "stream",
     "text": [
      "Best Ensemble: 0.007829335831054019\n"
     ]
    }
   ],
   "source": [
    "from sklearn.pipeline import Pipeline \n",
    "from sklearn.ensemble import VotingRegressor\n",
    "from sklearn.svm import SVR\n",
    "from sklearn.tree import DecisionTreeRegressor\n",
    "from sklearn.neighbors import KNeighborsRegressor\n",
    "# Create the models for ensemble\n",
    "\n",
    "model1_r = Pipeline([('model', SVR())])\n",
    "model2_r = Pipeline([('model', DecisionTreeRegressor())])\n",
    "model3_r = Pipeline([('model', KNeighborsRegressor())])\n",
    "\n",
    "                 \n",
    "## Create the ensemble\n",
    "my_ensemble_r = VotingRegressor(estimators=[('svr', model1_r),('tree', model2_r),('knn', model3_r)])\n",
    "\n",
    "params_r = {'svr__model__kernel': ['linear', 'rbf', 'poly'],\n",
    "           'svr__model__C': [1, 10, 50, 100],\n",
    "           'tree__model__max_depth': [2,3,4,5], \n",
    "           'knn__model__n_neighbors': [10,25,50,100]\n",
    "           }\n",
    "\n",
    "grid_r = GridSearchCV(my_ensemble_r, param_grid=params_r, cv=5, scoring = 'neg_root_mean_squared_error').fit(X_train, y_train)\n",
    "\n",
    "cross_val_rmse = cross_val_score(grid_r.best_estimator_, X_train, y_train, cv=5, scoring=make_scorer(mean_squared_error, squared=False))\n",
    "\n",
    "\n",
    "print(f'Best Ensemble: {cross_val_rmse.mean()}');"
   ]
  },
  {
   "cell_type": "code",
   "execution_count": 869,
   "id": "d1a1f4d1-6780-4667-a7e8-0ec5de58138b",
   "metadata": {},
   "outputs": [
    {
     "data": {
      "text/html": [
       "<style>#sk-container-id-6 {color: black;background-color: white;}#sk-container-id-6 pre{padding: 0;}#sk-container-id-6 div.sk-toggleable {background-color: white;}#sk-container-id-6 label.sk-toggleable__label {cursor: pointer;display: block;width: 100%;margin-bottom: 0;padding: 0.3em;box-sizing: border-box;text-align: center;}#sk-container-id-6 label.sk-toggleable__label-arrow:before {content: \"▸\";float: left;margin-right: 0.25em;color: #696969;}#sk-container-id-6 label.sk-toggleable__label-arrow:hover:before {color: black;}#sk-container-id-6 div.sk-estimator:hover label.sk-toggleable__label-arrow:before {color: black;}#sk-container-id-6 div.sk-toggleable__content {max-height: 0;max-width: 0;overflow: hidden;text-align: left;background-color: #f0f8ff;}#sk-container-id-6 div.sk-toggleable__content pre {margin: 0.2em;color: black;border-radius: 0.25em;background-color: #f0f8ff;}#sk-container-id-6 input.sk-toggleable__control:checked~div.sk-toggleable__content {max-height: 200px;max-width: 100%;overflow: auto;}#sk-container-id-6 input.sk-toggleable__control:checked~label.sk-toggleable__label-arrow:before {content: \"▾\";}#sk-container-id-6 div.sk-estimator input.sk-toggleable__control:checked~label.sk-toggleable__label {background-color: #d4ebff;}#sk-container-id-6 div.sk-label input.sk-toggleable__control:checked~label.sk-toggleable__label {background-color: #d4ebff;}#sk-container-id-6 input.sk-hidden--visually {border: 0;clip: rect(1px 1px 1px 1px);clip: rect(1px, 1px, 1px, 1px);height: 1px;margin: -1px;overflow: hidden;padding: 0;position: absolute;width: 1px;}#sk-container-id-6 div.sk-estimator {font-family: monospace;background-color: #f0f8ff;border: 1px dotted black;border-radius: 0.25em;box-sizing: border-box;margin-bottom: 0.5em;}#sk-container-id-6 div.sk-estimator:hover {background-color: #d4ebff;}#sk-container-id-6 div.sk-parallel-item::after {content: \"\";width: 100%;border-bottom: 1px solid gray;flex-grow: 1;}#sk-container-id-6 div.sk-label:hover label.sk-toggleable__label {background-color: #d4ebff;}#sk-container-id-6 div.sk-serial::before {content: \"\";position: absolute;border-left: 1px solid gray;box-sizing: border-box;top: 0;bottom: 0;left: 50%;z-index: 0;}#sk-container-id-6 div.sk-serial {display: flex;flex-direction: column;align-items: center;background-color: white;padding-right: 0.2em;padding-left: 0.2em;position: relative;}#sk-container-id-6 div.sk-item {position: relative;z-index: 1;}#sk-container-id-6 div.sk-parallel {display: flex;align-items: stretch;justify-content: center;background-color: white;position: relative;}#sk-container-id-6 div.sk-item::before, #sk-container-id-6 div.sk-parallel-item::before {content: \"\";position: absolute;border-left: 1px solid gray;box-sizing: border-box;top: 0;bottom: 0;left: 50%;z-index: -1;}#sk-container-id-6 div.sk-parallel-item {display: flex;flex-direction: column;z-index: 1;position: relative;background-color: white;}#sk-container-id-6 div.sk-parallel-item:first-child::after {align-self: flex-end;width: 50%;}#sk-container-id-6 div.sk-parallel-item:last-child::after {align-self: flex-start;width: 50%;}#sk-container-id-6 div.sk-parallel-item:only-child::after {width: 0;}#sk-container-id-6 div.sk-dashed-wrapped {border: 1px dashed gray;margin: 0 0.4em 0.5em 0.4em;box-sizing: border-box;padding-bottom: 0.4em;background-color: white;}#sk-container-id-6 div.sk-label label {font-family: monospace;font-weight: bold;display: inline-block;line-height: 1.2em;}#sk-container-id-6 div.sk-label-container {text-align: center;}#sk-container-id-6 div.sk-container {/* jupyter's `normalize.less` sets `[hidden] { display: none; }` but bootstrap.min.css set `[hidden] { display: none !important; }` so we also need the `!important` here to be able to override the default hidden behavior on the sphinx rendered scikit-learn.org. See: https://github.com/scikit-learn/scikit-learn/issues/21755 */display: inline-block !important;position: relative;}#sk-container-id-6 div.sk-text-repr-fallback {display: none;}</style><div id=\"sk-container-id-6\" class=\"sk-top-container\"><div class=\"sk-text-repr-fallback\"><pre>VotingRegressor(estimators=[(&#x27;random_forest&#x27;,\n",
       "                             RandomForestRegressor(max_depth=3, max_features=5,\n",
       "                                                   min_samples_split=15,\n",
       "                                                   random_state=42)),\n",
       "                            (&#x27;stacked&#x27;,\n",
       "                             StackingRegressor(estimators=[(&#x27;voting&#x27;,\n",
       "                                                            VotingRegressor(estimators=[(&#x27;svr&#x27;,\n",
       "                                                                                         Pipeline(steps=[(&#x27;model&#x27;,\n",
       "                                                                                                          SVR(C=10,\n",
       "                                                                                                              kernel=&#x27;poly&#x27;))])),\n",
       "                                                                                        (&#x27;tree&#x27;,\n",
       "                                                                                         Pipeline(steps=[(&#x27;model&#x27;,\n",
       "                                                                                                          DecisionTreeRegressor(max_depth=5))])),\n",
       "                                                                                        (&#x27;knn&#x27;,\n",
       "                                                                                         Pipeline(steps=[(&#x27;model&#x27;,\n",
       "                                                                                                          KNeighborsRegressor(n_neighbors=50))]))]))],\n",
       "                                               final_estimator=DecisionTreeRegressor(max_depth=3)))])</pre><b>In a Jupyter environment, please rerun this cell to show the HTML representation or trust the notebook. <br />On GitHub, the HTML representation is unable to render, please try loading this page with nbviewer.org.</b></div><div class=\"sk-container\" hidden><div class=\"sk-item sk-dashed-wrapped\"><div class=\"sk-label-container\"><div class=\"sk-label sk-toggleable\"><input class=\"sk-toggleable__control sk-hidden--visually\" id=\"sk-estimator-id-31\" type=\"checkbox\" ><label for=\"sk-estimator-id-31\" class=\"sk-toggleable__label sk-toggleable__label-arrow\">VotingRegressor</label><div class=\"sk-toggleable__content\"><pre>VotingRegressor(estimators=[(&#x27;random_forest&#x27;,\n",
       "                             RandomForestRegressor(max_depth=3, max_features=5,\n",
       "                                                   min_samples_split=15,\n",
       "                                                   random_state=42)),\n",
       "                            (&#x27;stacked&#x27;,\n",
       "                             StackingRegressor(estimators=[(&#x27;voting&#x27;,\n",
       "                                                            VotingRegressor(estimators=[(&#x27;svr&#x27;,\n",
       "                                                                                         Pipeline(steps=[(&#x27;model&#x27;,\n",
       "                                                                                                          SVR(C=10,\n",
       "                                                                                                              kernel=&#x27;poly&#x27;))])),\n",
       "                                                                                        (&#x27;tree&#x27;,\n",
       "                                                                                         Pipeline(steps=[(&#x27;model&#x27;,\n",
       "                                                                                                          DecisionTreeRegressor(max_depth=5))])),\n",
       "                                                                                        (&#x27;knn&#x27;,\n",
       "                                                                                         Pipeline(steps=[(&#x27;model&#x27;,\n",
       "                                                                                                          KNeighborsRegressor(n_neighbors=50))]))]))],\n",
       "                                               final_estimator=DecisionTreeRegressor(max_depth=3)))])</pre></div></div></div><div class=\"sk-parallel\"><div class=\"sk-parallel-item\"><div class=\"sk-item\"><div class=\"sk-label-container\"><div class=\"sk-label sk-toggleable\"><label>random_forest</label></div></div><div class=\"sk-serial\"><div class=\"sk-item\"><div class=\"sk-estimator sk-toggleable\"><input class=\"sk-toggleable__control sk-hidden--visually\" id=\"sk-estimator-id-32\" type=\"checkbox\" ><label for=\"sk-estimator-id-32\" class=\"sk-toggleable__label sk-toggleable__label-arrow\">RandomForestRegressor</label><div class=\"sk-toggleable__content\"><pre>RandomForestRegressor(max_depth=3, max_features=5, min_samples_split=15,\n",
       "                      random_state=42)</pre></div></div></div></div></div></div><div class=\"sk-parallel-item\"><div class=\"sk-item\"><div class=\"sk-label-container\"><div class=\"sk-label sk-toggleable\"><label>stacked</label></div></div><div class=\"sk-serial\"><div class=\"sk-item\"><div class=\"sk-serial\"><div class=\"sk-item\"><div class=\"sk-parallel\"><div class=\"sk-parallel-item\"><div class=\"sk-item\"><div class=\"sk-label-container\"><div class=\"sk-label sk-toggleable\"><label>voting</label></div></div><div class=\"sk-serial\"><div class=\"sk-item sk-dashed-wrapped\"><div class=\"sk-parallel\"><div class=\"sk-parallel-item\"><div class=\"sk-item\"><div class=\"sk-label-container\"><div class=\"sk-label sk-toggleable\"><label>svr</label></div></div><div class=\"sk-serial\"><div class=\"sk-item\"><div class=\"sk-serial\"><div class=\"sk-item\"><div class=\"sk-estimator sk-toggleable\"><input class=\"sk-toggleable__control sk-hidden--visually\" id=\"sk-estimator-id-33\" type=\"checkbox\" ><label for=\"sk-estimator-id-33\" class=\"sk-toggleable__label sk-toggleable__label-arrow\">SVR</label><div class=\"sk-toggleable__content\"><pre>SVR(C=10, kernel=&#x27;poly&#x27;)</pre></div></div></div></div></div></div></div></div><div class=\"sk-parallel-item\"><div class=\"sk-item\"><div class=\"sk-label-container\"><div class=\"sk-label sk-toggleable\"><label>tree</label></div></div><div class=\"sk-serial\"><div class=\"sk-item\"><div class=\"sk-serial\"><div class=\"sk-item\"><div class=\"sk-estimator sk-toggleable\"><input class=\"sk-toggleable__control sk-hidden--visually\" id=\"sk-estimator-id-34\" type=\"checkbox\" ><label for=\"sk-estimator-id-34\" class=\"sk-toggleable__label sk-toggleable__label-arrow\">DecisionTreeRegressor</label><div class=\"sk-toggleable__content\"><pre>DecisionTreeRegressor(max_depth=5)</pre></div></div></div></div></div></div></div></div><div class=\"sk-parallel-item\"><div class=\"sk-item\"><div class=\"sk-label-container\"><div class=\"sk-label sk-toggleable\"><label>knn</label></div></div><div class=\"sk-serial\"><div class=\"sk-item\"><div class=\"sk-serial\"><div class=\"sk-item\"><div class=\"sk-estimator sk-toggleable\"><input class=\"sk-toggleable__control sk-hidden--visually\" id=\"sk-estimator-id-35\" type=\"checkbox\" ><label for=\"sk-estimator-id-35\" class=\"sk-toggleable__label sk-toggleable__label-arrow\">KNeighborsRegressor</label><div class=\"sk-toggleable__content\"><pre>KNeighborsRegressor(n_neighbors=50)</pre></div></div></div></div></div></div></div></div></div></div></div></div></div></div></div><div class=\"sk-item\"><div class=\"sk-parallel\"><div class=\"sk-parallel-item\"><div class=\"sk-item\"><div class=\"sk-label-container\"><div class=\"sk-label sk-toggleable\"><label>final_estimator</label></div></div><div class=\"sk-serial\"><div class=\"sk-item\"><div class=\"sk-estimator sk-toggleable\"><input class=\"sk-toggleable__control sk-hidden--visually\" id=\"sk-estimator-id-36\" type=\"checkbox\" ><label for=\"sk-estimator-id-36\" class=\"sk-toggleable__label sk-toggleable__label-arrow\">DecisionTreeRegressor</label><div class=\"sk-toggleable__content\"><pre>DecisionTreeRegressor(max_depth=3)</pre></div></div></div></div></div></div></div></div></div></div></div></div></div></div></div></div></div>"
      ],
      "text/plain": [
       "VotingRegressor(estimators=[('random_forest',\n",
       "                             RandomForestRegressor(max_depth=3, max_features=5,\n",
       "                                                   min_samples_split=15,\n",
       "                                                   random_state=42)),\n",
       "                            ('stacked',\n",
       "                             StackingRegressor(estimators=[('voting',\n",
       "                                                            VotingRegressor(estimators=[('svr',\n",
       "                                                                                         Pipeline(steps=[('model',\n",
       "                                                                                                          SVR(C=10,\n",
       "                                                                                                              kernel='poly'))])),\n",
       "                                                                                        ('tree',\n",
       "                                                                                         Pipeline(steps=[('model',\n",
       "                                                                                                          DecisionTreeRegressor(max_depth=5))])),\n",
       "                                                                                        ('knn',\n",
       "                                                                                         Pipeline(steps=[('model',\n",
       "                                                                                                          KNeighborsRegressor(n_neighbors=50))]))]))],\n",
       "                                               final_estimator=DecisionTreeRegressor(max_depth=3)))])"
      ]
     },
     "execution_count": 869,
     "metadata": {},
     "output_type": "execute_result"
    }
   ],
   "source": [
    "# Creating ensemble from the best Random Forest model\n",
    "best_random_forest = grid_search_rf.best_estimator_\n",
    "\n",
    "stacked_r = StackingRegressor(estimators=[('voting', grid_r.best_estimator_)], final_estimator=DecisionTreeRegressor(max_depth=3))\n",
    "stacked_ensemble = stacked_r\n",
    "\n",
    "ensemble_voting = VotingRegressor(estimators=[\n",
    "    ('random_forest', best_random_forest),\n",
    "    ('stacked', stacked_ensemble)\n",
    "])\n",
    "ensemble_voting.fit(X_train, y_train)"
   ]
  },
  {
   "cell_type": "code",
   "execution_count": 870,
   "id": "c917beae-8489-420c-a608-72e3633f7905",
   "metadata": {},
   "outputs": [
    {
     "name": "stdout",
     "output_type": "stream",
     "text": [
      "RMSE of the VotingRegressor ensemble on the test set: 0.004786802111230061\n"
     ]
    }
   ],
   "source": [
    "ensemble_predictions = ensemble_voting.predict(X_test)\n",
    "ensemble_rmse = np.sqrt(mean_squared_error(y_test, ensemble_predictions))\n",
    "print(f'RMSE of the VotingRegressor ensemble on the test set: {ensemble_rmse}')"
   ]
  },
  {
   "cell_type": "code",
   "execution_count": 871,
   "id": "e7ee5e42-ab7e-4b31-b8af-d7420e2e3af2",
   "metadata": {},
   "outputs": [
    {
     "name": "stdout",
     "output_type": "stream",
     "text": [
      "Standard Deviation of Returns: 0.010878093953211184\n",
      "Mean Squared Error: 1.4205683618682513e-05\n",
      "Root Mean Squared Error (RMSE): 0.003769042798733189\n"
     ]
    }
   ],
   "source": [
    "# very simple model with better RMSE\n",
    "from sklearn.ensemble import RandomForestRegressor\n",
    "\n",
    "# Train the model\n",
    "model = RandomForestRegressor(n_estimators=100, random_state=42)\n",
    "model.fit(X_train, y_train)\n",
    "\n",
    "# Prediction\n",
    "predicted_returns = model.predict(X_test)\n",
    "from sklearn.metrics import mean_squared_error\n",
    "\n",
    "std_dev = np.std(y_train)\n",
    "print(\"Standard Deviation of Returns:\", std_dev)\n",
    "mse = mean_squared_error(y_test, predicted_returns)\n",
    "print(\"Mean Squared Error:\", mse)\n",
    "rmse = np.sqrt(mse)\n",
    "print(\"Root Mean Squared Error (RMSE):\", rmse)"
   ]
  }
 ],
 "metadata": {
  "kernelspec": {
   "display_name": "Python 3 (ipykernel)",
   "language": "python",
   "name": "python3"
  },
  "language_info": {
   "codemirror_mode": {
    "name": "ipython",
    "version": 3
   },
   "file_extension": ".py",
   "mimetype": "text/x-python",
   "name": "python",
   "nbconvert_exporter": "python",
   "pygments_lexer": "ipython3",
   "version": "3.11.7"
  }
 },
 "nbformat": 4,
 "nbformat_minor": 5
}
